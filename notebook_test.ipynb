{
 "cells": [
  {
   "cell_type": "code",
   "execution_count": null,
   "id": "437a64b8",
   "metadata": {},
   "outputs": [],
   "source": [
    "%load_ext autoreload\n",
    "%autoreload 2\n",
    "import numpy as np\n",
    "import pandas as pd\n",
    "\n",
    "from sklearn.neural_network import MLPClassifier\n",
    "from sklearn.ensemble import RandomForestClassifier\n",
    "from sklearn.model_selection import train_test_split\n",
    "from sklearn.metrics import f1_score, accuracy_score\n",
    "\n"
   ]
  },
  {
   "cell_type": "code",
   "execution_count": null,
   "id": "dcb8e45a",
   "metadata": {},
   "outputs": [],
   "source": [
    "from lore_sa.util import record2str, neuclidean"
   ]
  },
  {
   "cell_type": "code",
   "execution_count": null,
   "id": "c01955ba",
   "metadata": {},
   "outputs": [],
   "source": []
  },
  {
   "cell_type": "code",
   "execution_count": null,
   "id": "66c360ef",
   "metadata": {},
   "outputs": [],
   "source": [
    "from lore_sa.dataset import Dataset"
   ]
  },
  {
   "cell_type": "code",
   "execution_count": null,
   "id": "1956c9e5",
   "metadata": {},
   "outputs": [],
   "source": [
    "dataset = Dataset.from_csv('test/resources/adult.csv')\n",
    "dataset.df.dropna(inplace = True)\n",
    "dataset.df"
   ]
  },
  {
   "cell_type": "code",
   "execution_count": null,
   "id": "bb8f3772",
   "metadata": {},
   "outputs": [],
   "source": [
    "dataset.df.drop(['fnlwgt', 'education-num'], inplace=True, axis=1)\n",
    "dataset.df"
   ]
  },
  {
   "cell_type": "code",
   "execution_count": null,
   "id": "cf805a07",
   "metadata": {},
   "outputs": [],
   "source": [
    "from lore_sa.encoder_decoder import OneHotEnc\n",
    "encoder = OneHotEnc()"
   ]
  },
  {
   "cell_type": "code",
   "execution_count": null,
   "id": "22d839e9",
   "metadata": {},
   "outputs": [],
   "source": [
    "#dataset encoded only for the user-specified features\n",
    "\n",
    "df_enc = encoder.encode(dataset,['workclass','education'])\n",
    "df_enc"
   ]
  },
  {
   "cell_type": "code",
   "execution_count": null,
   "id": "1baaf239",
   "metadata": {},
   "outputs": [],
   "source": [
    "print (encoder)\n",
    "\n",
    "#dataset back in his original format\n",
    "encoder.decode(dataset)"
   ]
  },
  {
   "cell_type": "code",
   "execution_count": null,
   "id": "1142cb2e",
   "metadata": {},
   "outputs": [],
   "source": []
  }
 ],
 "metadata": {
  "kernelspec": {
   "display_name": "Python 3 (ipykernel)",
   "language": "python",
   "name": "python3"
  },
  "language_info": {
   "codemirror_mode": {
    "name": "ipython",
    "version": 3
   },
   "file_extension": ".py",
   "mimetype": "text/x-python",
   "name": "python",
   "nbconvert_exporter": "python",
   "pygments_lexer": "ipython3",
   "version": "3.9.12"
  }
 },
 "nbformat": 4,
 "nbformat_minor": 5
}
