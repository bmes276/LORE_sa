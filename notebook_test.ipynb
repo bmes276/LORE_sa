{
 "cells": [
  {
   "cell_type": "markdown",
   "id": "32c02afe",
   "metadata": {},
   "source": [
    "# Tutorial: explain a tabular classifier through LORE\n",
    "\n",
    "LORE provides interpretable explanations for the decisions made by machine learning models, particularly in situations where it might be challenging to explain the model's behavior using traditional methods. LORE is designed to offer explanations on a per-instance basis, meaning it provides insights into why a specific prediction was made for a particular data point. This is in contrast to global explanations that aim to provide an overview of a model's behavior across the entire dataset.\n",
    "\n",
    "\n",
    "In this tutorial we will explain the reasoning of a random forest classifier when applied to an instance of the Adult Income dataset ( https://archive.ics.uci.edu/dataset/2/adult). This dataset contains census data from 1994 census database, the classification problem associated to such data involves the prediction of the annual income of a person, given a set of socio-economic caracteristics: \n",
    "- working class\n",
    "- marital status\n",
    "- occupation\n",
    "- relationship\n",
    "- race\n",
    "- sex\n",
    "- capital gain/loss\n",
    "- native country \n",
    "\n",
    "\n",
    "\n"
   ]
  },
  {
   "cell_type": "markdown",
   "id": "67746cc7",
   "metadata": {},
   "source": [
    "### Dataset loading \n",
    "\n",
    "Lore libray has a module devoted to dataset handling. Here we use TabularDataset class to load a dataset from a csv file. A TabularDataset has a column that represent the target class (`class_name`) of the classification task  object, and has two main attributes: \n",
    "- `df` : a pandas dataframe representing the tabular data\n",
    "- `descriptor` : a dictionary containing internal data related to the dataset. It is build when a TabularDataset is created, but it could also be edited. It is used by the next steps of LORE methodology to distinguish among numerical, categorical, ordinal and target features of the dataset."
   ]
  },
  {
   "cell_type": "code",
   "execution_count": 32,
   "id": "66c360ef",
   "metadata": {
    "ExecuteTime": {
     "end_time": "2023-11-27T15:09:03.381588789Z",
     "start_time": "2023-11-27T15:09:02.581663006Z"
    }
   },
   "outputs": [
    {
     "name": "stderr",
     "output_type": "stream",
     "text": [
      "2023-11-27 16:09:03,281 root         INFO     test/resources/adult.csv file imported\n"
     ]
    },
    {
     "data": {
      "text/plain": "       age         workclass  fnlwgt   education  education-num  \\\n0       39         State-gov   77516   Bachelors             13   \n1       50  Self-emp-not-inc   83311   Bachelors             13   \n2       38           Private  215646     HS-grad              9   \n3       53           Private  234721        11th              7   \n4       28           Private  338409   Bachelors             13   \n...    ...               ...     ...         ...            ...   \n32556   27           Private  257302  Assoc-acdm             12   \n32557   40           Private  154374     HS-grad              9   \n32558   58           Private  151910     HS-grad              9   \n32559   22           Private  201490     HS-grad              9   \n32560   52      Self-emp-inc  287927     HS-grad              9   \n\n           marital-status         occupation   relationship   race     sex  \\\n0           Never-married       Adm-clerical  Not-in-family  White    Male   \n1      Married-civ-spouse    Exec-managerial        Husband  White    Male   \n2                Divorced  Handlers-cleaners  Not-in-family  White    Male   \n3      Married-civ-spouse  Handlers-cleaners        Husband  Black    Male   \n4      Married-civ-spouse     Prof-specialty           Wife  Black  Female   \n...                   ...                ...            ...    ...     ...   \n32556  Married-civ-spouse       Tech-support           Wife  White  Female   \n32557  Married-civ-spouse  Machine-op-inspct        Husband  White    Male   \n32558             Widowed       Adm-clerical      Unmarried  White  Female   \n32559       Never-married       Adm-clerical      Own-child  White    Male   \n32560  Married-civ-spouse    Exec-managerial           Wife  White  Female   \n\n       capital-gain  capital-loss  hours-per-week native-country  class  \n0              2174             0              40  United-States  <=50K  \n1                 0             0              13  United-States  <=50K  \n2                 0             0              40  United-States  <=50K  \n3                 0             0              40  United-States  <=50K  \n4                 0             0              40           Cuba  <=50K  \n...             ...           ...             ...            ...    ...  \n32556             0             0              38  United-States  <=50K  \n32557             0             0              40  United-States   >50K  \n32558             0             0              40  United-States  <=50K  \n32559             0             0              20  United-States  <=50K  \n32560         15024             0              40  United-States   >50K  \n\n[30162 rows x 15 columns]",
      "text/html": "<div>\n<style scoped>\n    .dataframe tbody tr th:only-of-type {\n        vertical-align: middle;\n    }\n\n    .dataframe tbody tr th {\n        vertical-align: top;\n    }\n\n    .dataframe thead th {\n        text-align: right;\n    }\n</style>\n<table border=\"1\" class=\"dataframe\">\n  <thead>\n    <tr style=\"text-align: right;\">\n      <th></th>\n      <th>age</th>\n      <th>workclass</th>\n      <th>fnlwgt</th>\n      <th>education</th>\n      <th>education-num</th>\n      <th>marital-status</th>\n      <th>occupation</th>\n      <th>relationship</th>\n      <th>race</th>\n      <th>sex</th>\n      <th>capital-gain</th>\n      <th>capital-loss</th>\n      <th>hours-per-week</th>\n      <th>native-country</th>\n      <th>class</th>\n    </tr>\n  </thead>\n  <tbody>\n    <tr>\n      <th>0</th>\n      <td>39</td>\n      <td>State-gov</td>\n      <td>77516</td>\n      <td>Bachelors</td>\n      <td>13</td>\n      <td>Never-married</td>\n      <td>Adm-clerical</td>\n      <td>Not-in-family</td>\n      <td>White</td>\n      <td>Male</td>\n      <td>2174</td>\n      <td>0</td>\n      <td>40</td>\n      <td>United-States</td>\n      <td>&lt;=50K</td>\n    </tr>\n    <tr>\n      <th>1</th>\n      <td>50</td>\n      <td>Self-emp-not-inc</td>\n      <td>83311</td>\n      <td>Bachelors</td>\n      <td>13</td>\n      <td>Married-civ-spouse</td>\n      <td>Exec-managerial</td>\n      <td>Husband</td>\n      <td>White</td>\n      <td>Male</td>\n      <td>0</td>\n      <td>0</td>\n      <td>13</td>\n      <td>United-States</td>\n      <td>&lt;=50K</td>\n    </tr>\n    <tr>\n      <th>2</th>\n      <td>38</td>\n      <td>Private</td>\n      <td>215646</td>\n      <td>HS-grad</td>\n      <td>9</td>\n      <td>Divorced</td>\n      <td>Handlers-cleaners</td>\n      <td>Not-in-family</td>\n      <td>White</td>\n      <td>Male</td>\n      <td>0</td>\n      <td>0</td>\n      <td>40</td>\n      <td>United-States</td>\n      <td>&lt;=50K</td>\n    </tr>\n    <tr>\n      <th>3</th>\n      <td>53</td>\n      <td>Private</td>\n      <td>234721</td>\n      <td>11th</td>\n      <td>7</td>\n      <td>Married-civ-spouse</td>\n      <td>Handlers-cleaners</td>\n      <td>Husband</td>\n      <td>Black</td>\n      <td>Male</td>\n      <td>0</td>\n      <td>0</td>\n      <td>40</td>\n      <td>United-States</td>\n      <td>&lt;=50K</td>\n    </tr>\n    <tr>\n      <th>4</th>\n      <td>28</td>\n      <td>Private</td>\n      <td>338409</td>\n      <td>Bachelors</td>\n      <td>13</td>\n      <td>Married-civ-spouse</td>\n      <td>Prof-specialty</td>\n      <td>Wife</td>\n      <td>Black</td>\n      <td>Female</td>\n      <td>0</td>\n      <td>0</td>\n      <td>40</td>\n      <td>Cuba</td>\n      <td>&lt;=50K</td>\n    </tr>\n    <tr>\n      <th>...</th>\n      <td>...</td>\n      <td>...</td>\n      <td>...</td>\n      <td>...</td>\n      <td>...</td>\n      <td>...</td>\n      <td>...</td>\n      <td>...</td>\n      <td>...</td>\n      <td>...</td>\n      <td>...</td>\n      <td>...</td>\n      <td>...</td>\n      <td>...</td>\n      <td>...</td>\n    </tr>\n    <tr>\n      <th>32556</th>\n      <td>27</td>\n      <td>Private</td>\n      <td>257302</td>\n      <td>Assoc-acdm</td>\n      <td>12</td>\n      <td>Married-civ-spouse</td>\n      <td>Tech-support</td>\n      <td>Wife</td>\n      <td>White</td>\n      <td>Female</td>\n      <td>0</td>\n      <td>0</td>\n      <td>38</td>\n      <td>United-States</td>\n      <td>&lt;=50K</td>\n    </tr>\n    <tr>\n      <th>32557</th>\n      <td>40</td>\n      <td>Private</td>\n      <td>154374</td>\n      <td>HS-grad</td>\n      <td>9</td>\n      <td>Married-civ-spouse</td>\n      <td>Machine-op-inspct</td>\n      <td>Husband</td>\n      <td>White</td>\n      <td>Male</td>\n      <td>0</td>\n      <td>0</td>\n      <td>40</td>\n      <td>United-States</td>\n      <td>&gt;50K</td>\n    </tr>\n    <tr>\n      <th>32558</th>\n      <td>58</td>\n      <td>Private</td>\n      <td>151910</td>\n      <td>HS-grad</td>\n      <td>9</td>\n      <td>Widowed</td>\n      <td>Adm-clerical</td>\n      <td>Unmarried</td>\n      <td>White</td>\n      <td>Female</td>\n      <td>0</td>\n      <td>0</td>\n      <td>40</td>\n      <td>United-States</td>\n      <td>&lt;=50K</td>\n    </tr>\n    <tr>\n      <th>32559</th>\n      <td>22</td>\n      <td>Private</td>\n      <td>201490</td>\n      <td>HS-grad</td>\n      <td>9</td>\n      <td>Never-married</td>\n      <td>Adm-clerical</td>\n      <td>Own-child</td>\n      <td>White</td>\n      <td>Male</td>\n      <td>0</td>\n      <td>0</td>\n      <td>20</td>\n      <td>United-States</td>\n      <td>&lt;=50K</td>\n    </tr>\n    <tr>\n      <th>32560</th>\n      <td>52</td>\n      <td>Self-emp-inc</td>\n      <td>287927</td>\n      <td>HS-grad</td>\n      <td>9</td>\n      <td>Married-civ-spouse</td>\n      <td>Exec-managerial</td>\n      <td>Wife</td>\n      <td>White</td>\n      <td>Female</td>\n      <td>15024</td>\n      <td>0</td>\n      <td>40</td>\n      <td>United-States</td>\n      <td>&gt;50K</td>\n    </tr>\n  </tbody>\n</table>\n<p>30162 rows × 15 columns</p>\n</div>"
     },
     "execution_count": 32,
     "metadata": {},
     "output_type": "execute_result"
    }
   ],
   "source": [
    "from lore_sa.dataset import TabularDataset\n",
    "import pandas as pd\n",
    "\n",
    "dataset = TabularDataset.from_csv('test/resources/adult.csv', class_name = \"class\")\n",
    "dataset.df.dropna(inplace = True)\n",
    "dataset.df\n"
   ]
  },
  {
   "cell_type": "code",
   "execution_count": 33,
   "id": "504054e3",
   "metadata": {
    "ExecuteTime": {
     "end_time": "2023-11-27T15:09:05.050458783Z",
     "start_time": "2023-11-27T15:09:05.014978540Z"
    }
   },
   "outputs": [
    {
     "data": {
      "text/plain": "dict_keys(['numeric', 'categorical', 'target'])"
     },
     "execution_count": 33,
     "metadata": {},
     "output_type": "execute_result"
    }
   ],
   "source": [
    "dataset.descriptor.keys()"
   ]
  },
  {
   "cell_type": "markdown",
   "id": "cdd47bee",
   "metadata": {},
   "source": [
    "We drop some columns as part of a data preprocessing task. In this case, the descriptor of the dataset must be updated through the dedicated method\n"
   ]
  },
  {
   "cell_type": "code",
   "execution_count": 34,
   "id": "a974d87a",
   "metadata": {
    "ExecuteTime": {
     "end_time": "2023-11-27T15:09:07.333483078Z",
     "start_time": "2023-11-27T15:09:07.104228717Z"
    }
   },
   "outputs": [],
   "source": [
    "dataset.df.drop(['fnlwgt', 'education-num'], inplace=True, axis=1)\n",
    "dataset.update_descriptor()"
   ]
  },
  {
   "cell_type": "markdown",
   "id": "161ebd01",
   "metadata": {},
   "source": [
    "### One-hot encoding \n",
    "\n",
    "We apply one hot encoding to the dataset, in order to show how LORE handles encoding. The `encoder_decode` provides `TabularEnc` class to encode and decode a tabular dataset applying one hot encoding to the categorical features and label encoding to the target feature.\n",
    "\n",
    "Tabular encoder has also a descriptor, that is derived from the originale Dataset descriptor and updated with the stats related to the encoded features."
   ]
  },
  {
   "cell_type": "code",
   "execution_count": 35,
   "id": "bb8f3772",
   "metadata": {
    "ExecuteTime": {
     "end_time": "2023-11-27T15:09:08.757900474Z",
     "start_time": "2023-11-27T15:09:08.726491429Z"
    }
   },
   "outputs": [
    {
     "data": {
      "text/plain": "dict_keys(['workclass', 'education', 'marital-status', 'occupation', 'relationship', 'race', 'sex', 'native-country'])"
     },
     "execution_count": 35,
     "metadata": {},
     "output_type": "execute_result"
    }
   ],
   "source": [
    "#categorical features of our dataset\n",
    "dataset.descriptor['categorical'].keys()"
   ]
  },
  {
   "cell_type": "code",
   "execution_count": 36,
   "id": "cf805a07",
   "metadata": {
    "ExecuteTime": {
     "end_time": "2023-11-27T15:09:42.255309177Z",
     "start_time": "2023-11-27T15:09:09.468053045Z"
    }
   },
   "outputs": [],
   "source": [
    "from lore_sa.encoder_decoder import TabularEnc\n",
    "encoder = TabularEnc(dataset.descriptor)\n",
    "\n",
    "encoded = []\n",
    "for x in dataset.df.iloc:\n",
    "    \n",
    "    \n",
    "    encoded.append(encoder.encode(x.values))\n",
    "    \n",
    "    \n"
   ]
  },
  {
   "cell_type": "code",
   "execution_count": 37,
   "id": "e9bf1dac",
   "metadata": {
    "ExecuteTime": {
     "end_time": "2023-11-27T15:09:42.298385207Z",
     "start_time": "2023-11-27T15:09:42.297096848Z"
    }
   },
   "outputs": [
    {
     "data": {
      "text/plain": "{'numeric': {'age': {'index': 0,\n   'min': 17,\n   'max': 90,\n   'mean': 38.437901995888865,\n   'std': 13.134664776855985,\n   'median': 37.0,\n   'q1': 28.0,\n   'q3': 47.0},\n  'capital-gain': {'index': 8,\n   'min': 0,\n   'max': 99999,\n   'mean': 1092.0078575691268,\n   'std': 7406.346496683503,\n   'median': 0.0,\n   'q1': 0.0,\n   'q3': 0.0},\n  'capital-loss': {'index': 9,\n   'min': 0,\n   'max': 4356,\n   'mean': 88.37248856176646,\n   'std': 404.29837048637575,\n   'median': 0.0,\n   'q1': 0.0,\n   'q3': 0.0},\n  'hours-per-week': {'index': 10,\n   'min': 1,\n   'max': 99,\n   'mean': 40.93123798156621,\n   'std': 11.979984229274882,\n   'median': 40.0,\n   'q1': 40.0,\n   'q3': 45.0}},\n 'categorical': {'workclass': {'index': 1,\n   'distinct_values': ['State-gov',\n    'Self-emp-not-inc',\n    'Private',\n    'Federal-gov',\n    'Local-gov',\n    'Self-emp-inc',\n    'Without-pay'],\n   'count': {'State-gov': 1279,\n    'Self-emp-not-inc': 2499,\n    'Private': 22286,\n    'Federal-gov': 943,\n    'Local-gov': 2067,\n    'Self-emp-inc': 1074,\n    'Without-pay': 14}},\n  'education': {'index': 2,\n   'distinct_values': ['Bachelors',\n    'HS-grad',\n    '11th',\n    'Masters',\n    '9th',\n    'Some-college',\n    'Assoc-acdm',\n    '7th-8th',\n    'Doctorate',\n    'Assoc-voc',\n    'Prof-school',\n    '5th-6th',\n    '10th',\n    'Preschool',\n    '12th',\n    '1st-4th'],\n   'count': {'Bachelors': 5044,\n    'HS-grad': 9840,\n    '11th': 1048,\n    'Masters': 1627,\n    '9th': 455,\n    'Some-college': 6678,\n    'Assoc-acdm': 1008,\n    '7th-8th': 557,\n    'Doctorate': 375,\n    'Assoc-voc': 1307,\n    'Prof-school': 542,\n    '5th-6th': 288,\n    '10th': 820,\n    'Preschool': 45,\n    '12th': 377,\n    '1st-4th': 151}},\n  'marital-status': {'index': 3,\n   'distinct_values': ['Never-married',\n    'Married-civ-spouse',\n    'Divorced',\n    'Married-spouse-absent',\n    'Separated',\n    'Married-AF-spouse',\n    'Widowed'],\n   'count': {'Never-married': 9726,\n    'Married-civ-spouse': 14065,\n    'Divorced': 4214,\n    'Married-spouse-absent': 370,\n    'Separated': 939,\n    'Married-AF-spouse': 21,\n    'Widowed': 827}},\n  'occupation': {'index': 4,\n   'distinct_values': ['Adm-clerical',\n    'Exec-managerial',\n    'Handlers-cleaners',\n    'Prof-specialty',\n    'Other-service',\n    'Sales',\n    'Transport-moving',\n    'Farming-fishing',\n    'Machine-op-inspct',\n    'Tech-support',\n    'Craft-repair',\n    'Protective-serv',\n    'Armed-Forces',\n    'Priv-house-serv'],\n   'count': {'Adm-clerical': 3721,\n    'Exec-managerial': 3992,\n    'Handlers-cleaners': 1350,\n    'Prof-specialty': 4038,\n    'Other-service': 3212,\n    'Sales': 3584,\n    'Transport-moving': 1572,\n    'Farming-fishing': 989,\n    'Machine-op-inspct': 1966,\n    'Tech-support': 912,\n    'Craft-repair': 4030,\n    'Protective-serv': 644,\n    'Armed-Forces': 9,\n    'Priv-house-serv': 143}},\n  'relationship': {'index': 5,\n   'distinct_values': ['Not-in-family',\n    'Husband',\n    'Wife',\n    'Own-child',\n    'Unmarried',\n    'Other-relative'],\n   'count': {'Not-in-family': 7726,\n    'Husband': 12463,\n    'Wife': 1406,\n    'Own-child': 4466,\n    'Unmarried': 3212,\n    'Other-relative': 889}},\n  'race': {'index': 6,\n   'distinct_values': ['White',\n    'Black',\n    'Asian-Pac-Islander',\n    'Amer-Indian-Eskimo',\n    'Other'],\n   'count': {'White': 25933,\n    'Black': 2817,\n    'Asian-Pac-Islander': 895,\n    'Amer-Indian-Eskimo': 286,\n    'Other': 231}},\n  'sex': {'index': 7,\n   'distinct_values': ['Male', 'Female'],\n   'count': {'Male': 20380, 'Female': 9782}},\n  'native-country': {'index': 11,\n   'distinct_values': ['United-States',\n    'Cuba',\n    'Jamaica',\n    'India',\n    'Mexico',\n    'Puerto-Rico',\n    'Honduras',\n    'England',\n    'Canada',\n    'Germany',\n    'Iran',\n    'Philippines',\n    'Poland',\n    'Columbia',\n    'Cambodia',\n    'Thailand',\n    'Ecuador',\n    'Laos',\n    'Taiwan',\n    'Haiti',\n    'Portugal',\n    'Dominican-Republic',\n    'El-Salvador',\n    'France',\n    'Guatemala',\n    'Italy',\n    'China',\n    'South',\n    'Japan',\n    'Yugoslavia',\n    'Peru',\n    'Outlying-US(Guam-USVI-etc)',\n    'Scotland',\n    'Trinadad&Tobago',\n    'Greece',\n    'Nicaragua',\n    'Vietnam',\n    'Hong',\n    'Ireland',\n    'Hungary',\n    'Holand-Netherlands'],\n   'count': {'United-States': 27504,\n    'Cuba': 92,\n    'Jamaica': 80,\n    'India': 100,\n    'Mexico': 610,\n    'Puerto-Rico': 109,\n    'Honduras': 12,\n    'England': 86,\n    'Canada': 107,\n    'Germany': 128,\n    'Iran': 42,\n    'Philippines': 188,\n    'Poland': 56,\n    'Columbia': 56,\n    'Cambodia': 18,\n    'Thailand': 17,\n    'Ecuador': 27,\n    'Laos': 17,\n    'Taiwan': 42,\n    'Haiti': 42,\n    'Portugal': 34,\n    'Dominican-Republic': 67,\n    'El-Salvador': 100,\n    'France': 27,\n    'Guatemala': 63,\n    'Italy': 68,\n    'China': 68,\n    'South': 71,\n    'Japan': 59,\n    'Yugoslavia': 16,\n    'Peru': 30,\n    'Outlying-US(Guam-USVI-etc)': 14,\n    'Scotland': 11,\n    'Trinadad&Tobago': 18,\n    'Greece': 29,\n    'Nicaragua': 33,\n    'Vietnam': 64,\n    'Hong': 19,\n    'Ireland': 24,\n    'Hungary': 13,\n    'Holand-Netherlands': 1}}},\n 'target': {'class': {'index': 12,\n   'distinct_values': ['<=50K', '>50K'],\n   'count': {'<=50K': 22654, '>50K': 7508}}}}"
     },
     "execution_count": 37,
     "metadata": {},
     "output_type": "execute_result"
    }
   ],
   "source": [
    "encoder.dataset_descriptor"
   ]
  },
  {
   "cell_type": "markdown",
   "id": "26ba13f9",
   "metadata": {},
   "source": [
    "Once we have an `TabularEnc` object, we can apply the `decode()` method to an encoded instance, in order to get the decoded instance."
   ]
  },
  {
   "cell_type": "code",
   "execution_count": 38,
   "id": "ec51eac5",
   "metadata": {
    "ExecuteTime": {
     "end_time": "2023-11-27T15:09:42.308989478Z",
     "start_time": "2023-11-27T15:09:42.297576749Z"
    }
   },
   "outputs": [
    {
     "data": {
      "text/plain": "array(['39', 'State-gov', 'Bachelors', 'Never-married', 'Adm-clerical',\n       'Not-in-family', 'White', 'Male', '2174', '0', '40',\n       'United-States', '<=50K'], dtype='<U21')"
     },
     "execution_count": 38,
     "metadata": {},
     "output_type": "execute_result"
    }
   ],
   "source": [
    "encoder.decode(encoded[0])"
   ]
  },
  {
   "cell_type": "markdown",
   "id": "de668392",
   "metadata": {},
   "source": [
    "## The blackbox\n",
    "\n",
    "LORE explains the reasoning of an input machine learning model (blackbox) that classifies an input instance of the dataset. Since this is a tutorial, we will create a blackbox from scratch, in order to explain it through LORE.\n",
    "\n",
    "We will explain a blackbox that is taking one-hot-encoded instances as input. Hence, we create an encoded version of the original dataframe:"
   ]
  },
  {
   "cell_type": "code",
   "execution_count": 39,
   "id": "ffa33134",
   "metadata": {
    "ExecuteTime": {
     "end_time": "2023-11-27T15:09:43.518550843Z",
     "start_time": "2023-11-27T15:09:42.304499479Z"
    }
   },
   "outputs": [
    {
     "data": {
      "text/plain": "       age  workclass=State-gov  workclass=Self-emp-not-inc  \\\n0       39                    1                           0   \n1       50                    0                           1   \n2       38                    0                           0   \n3       53                    0                           0   \n4       28                    0                           0   \n...    ...                  ...                         ...   \n30157   27                    0                           0   \n30158   40                    0                           0   \n30159   58                    0                           0   \n30160   22                    0                           0   \n30161   52                    0                           0   \n\n       workclass=Private  workclass=Federal-gov  workclass=Local-gov  \\\n0                      0                      0                    0   \n1                      0                      0                    0   \n2                      1                      0                    0   \n3                      1                      0                    0   \n4                      1                      0                    0   \n...                  ...                    ...                  ...   \n30157                  1                      0                    0   \n30158                  1                      0                    0   \n30159                  1                      0                    0   \n30160                  1                      0                    0   \n30161                  0                      0                    0   \n\n       workclass=Self-emp-inc  workclass=Without-pay  education=Bachelors  \\\n0                           0                      0                    1   \n1                           0                      0                    1   \n2                           0                      0                    0   \n3                           0                      0                    0   \n4                           0                      0                    1   \n...                       ...                    ...                  ...   \n30157                       0                      0                    0   \n30158                       0                      0                    0   \n30159                       0                      0                    0   \n30160                       0                      0                    0   \n30161                       1                      0                    0   \n\n       education=HS-grad  ...  native-country=Scotland  \\\n0                      0  ...                        0   \n1                      0  ...                        0   \n2                      1  ...                        0   \n3                      0  ...                        0   \n4                      0  ...                        0   \n...                  ...  ...                      ...   \n30157                  0  ...                        0   \n30158                  1  ...                        0   \n30159                  1  ...                        0   \n30160                  1  ...                        0   \n30161                  1  ...                        0   \n\n       native-country=Trinadad&Tobago  native-country=Greece  \\\n0                                   0                      0   \n1                                   0                      0   \n2                                   0                      0   \n3                                   0                      0   \n4                                   0                      0   \n...                               ...                    ...   \n30157                               0                      0   \n30158                               0                      0   \n30159                               0                      0   \n30160                               0                      0   \n30161                               0                      0   \n\n       native-country=Nicaragua  native-country=Vietnam  native-country=Hong  \\\n0                             0                       0                    0   \n1                             0                       0                    0   \n2                             0                       0                    0   \n3                             0                       0                    0   \n4                             0                       0                    0   \n...                         ...                     ...                  ...   \n30157                         0                       0                    0   \n30158                         0                       0                    0   \n30159                         0                       0                    0   \n30160                         0                       0                    0   \n30161                         0                       0                    0   \n\n       native-country=Ireland  native-country=Hungary  \\\n0                           0                       0   \n1                           0                       0   \n2                           0                       0   \n3                           0                       0   \n4                           0                       0   \n...                       ...                     ...   \n30157                       0                       0   \n30158                       0                       0   \n30159                       0                       0   \n30160                       0                       0   \n30161                       0                       0   \n\n       native-country=Holand-Netherlands  class  \n0                                      0      0  \n1                                      0      0  \n2                                      0      0  \n3                                      0      0  \n4                                      0      0  \n...                                  ...    ...  \n30157                                  0      0  \n30158                                  0      1  \n30159                                  0      0  \n30160                                  0      0  \n30161                                  0      1  \n\n[30162 rows x 103 columns]",
      "text/html": "<div>\n<style scoped>\n    .dataframe tbody tr th:only-of-type {\n        vertical-align: middle;\n    }\n\n    .dataframe tbody tr th {\n        vertical-align: top;\n    }\n\n    .dataframe thead th {\n        text-align: right;\n    }\n</style>\n<table border=\"1\" class=\"dataframe\">\n  <thead>\n    <tr style=\"text-align: right;\">\n      <th></th>\n      <th>age</th>\n      <th>workclass=State-gov</th>\n      <th>workclass=Self-emp-not-inc</th>\n      <th>workclass=Private</th>\n      <th>workclass=Federal-gov</th>\n      <th>workclass=Local-gov</th>\n      <th>workclass=Self-emp-inc</th>\n      <th>workclass=Without-pay</th>\n      <th>education=Bachelors</th>\n      <th>education=HS-grad</th>\n      <th>...</th>\n      <th>native-country=Scotland</th>\n      <th>native-country=Trinadad&amp;Tobago</th>\n      <th>native-country=Greece</th>\n      <th>native-country=Nicaragua</th>\n      <th>native-country=Vietnam</th>\n      <th>native-country=Hong</th>\n      <th>native-country=Ireland</th>\n      <th>native-country=Hungary</th>\n      <th>native-country=Holand-Netherlands</th>\n      <th>class</th>\n    </tr>\n  </thead>\n  <tbody>\n    <tr>\n      <th>0</th>\n      <td>39</td>\n      <td>1</td>\n      <td>0</td>\n      <td>0</td>\n      <td>0</td>\n      <td>0</td>\n      <td>0</td>\n      <td>0</td>\n      <td>1</td>\n      <td>0</td>\n      <td>...</td>\n      <td>0</td>\n      <td>0</td>\n      <td>0</td>\n      <td>0</td>\n      <td>0</td>\n      <td>0</td>\n      <td>0</td>\n      <td>0</td>\n      <td>0</td>\n      <td>0</td>\n    </tr>\n    <tr>\n      <th>1</th>\n      <td>50</td>\n      <td>0</td>\n      <td>1</td>\n      <td>0</td>\n      <td>0</td>\n      <td>0</td>\n      <td>0</td>\n      <td>0</td>\n      <td>1</td>\n      <td>0</td>\n      <td>...</td>\n      <td>0</td>\n      <td>0</td>\n      <td>0</td>\n      <td>0</td>\n      <td>0</td>\n      <td>0</td>\n      <td>0</td>\n      <td>0</td>\n      <td>0</td>\n      <td>0</td>\n    </tr>\n    <tr>\n      <th>2</th>\n      <td>38</td>\n      <td>0</td>\n      <td>0</td>\n      <td>1</td>\n      <td>0</td>\n      <td>0</td>\n      <td>0</td>\n      <td>0</td>\n      <td>0</td>\n      <td>1</td>\n      <td>...</td>\n      <td>0</td>\n      <td>0</td>\n      <td>0</td>\n      <td>0</td>\n      <td>0</td>\n      <td>0</td>\n      <td>0</td>\n      <td>0</td>\n      <td>0</td>\n      <td>0</td>\n    </tr>\n    <tr>\n      <th>3</th>\n      <td>53</td>\n      <td>0</td>\n      <td>0</td>\n      <td>1</td>\n      <td>0</td>\n      <td>0</td>\n      <td>0</td>\n      <td>0</td>\n      <td>0</td>\n      <td>0</td>\n      <td>...</td>\n      <td>0</td>\n      <td>0</td>\n      <td>0</td>\n      <td>0</td>\n      <td>0</td>\n      <td>0</td>\n      <td>0</td>\n      <td>0</td>\n      <td>0</td>\n      <td>0</td>\n    </tr>\n    <tr>\n      <th>4</th>\n      <td>28</td>\n      <td>0</td>\n      <td>0</td>\n      <td>1</td>\n      <td>0</td>\n      <td>0</td>\n      <td>0</td>\n      <td>0</td>\n      <td>1</td>\n      <td>0</td>\n      <td>...</td>\n      <td>0</td>\n      <td>0</td>\n      <td>0</td>\n      <td>0</td>\n      <td>0</td>\n      <td>0</td>\n      <td>0</td>\n      <td>0</td>\n      <td>0</td>\n      <td>0</td>\n    </tr>\n    <tr>\n      <th>...</th>\n      <td>...</td>\n      <td>...</td>\n      <td>...</td>\n      <td>...</td>\n      <td>...</td>\n      <td>...</td>\n      <td>...</td>\n      <td>...</td>\n      <td>...</td>\n      <td>...</td>\n      <td>...</td>\n      <td>...</td>\n      <td>...</td>\n      <td>...</td>\n      <td>...</td>\n      <td>...</td>\n      <td>...</td>\n      <td>...</td>\n      <td>...</td>\n      <td>...</td>\n      <td>...</td>\n    </tr>\n    <tr>\n      <th>30157</th>\n      <td>27</td>\n      <td>0</td>\n      <td>0</td>\n      <td>1</td>\n      <td>0</td>\n      <td>0</td>\n      <td>0</td>\n      <td>0</td>\n      <td>0</td>\n      <td>0</td>\n      <td>...</td>\n      <td>0</td>\n      <td>0</td>\n      <td>0</td>\n      <td>0</td>\n      <td>0</td>\n      <td>0</td>\n      <td>0</td>\n      <td>0</td>\n      <td>0</td>\n      <td>0</td>\n    </tr>\n    <tr>\n      <th>30158</th>\n      <td>40</td>\n      <td>0</td>\n      <td>0</td>\n      <td>1</td>\n      <td>0</td>\n      <td>0</td>\n      <td>0</td>\n      <td>0</td>\n      <td>0</td>\n      <td>1</td>\n      <td>...</td>\n      <td>0</td>\n      <td>0</td>\n      <td>0</td>\n      <td>0</td>\n      <td>0</td>\n      <td>0</td>\n      <td>0</td>\n      <td>0</td>\n      <td>0</td>\n      <td>1</td>\n    </tr>\n    <tr>\n      <th>30159</th>\n      <td>58</td>\n      <td>0</td>\n      <td>0</td>\n      <td>1</td>\n      <td>0</td>\n      <td>0</td>\n      <td>0</td>\n      <td>0</td>\n      <td>0</td>\n      <td>1</td>\n      <td>...</td>\n      <td>0</td>\n      <td>0</td>\n      <td>0</td>\n      <td>0</td>\n      <td>0</td>\n      <td>0</td>\n      <td>0</td>\n      <td>0</td>\n      <td>0</td>\n      <td>0</td>\n    </tr>\n    <tr>\n      <th>30160</th>\n      <td>22</td>\n      <td>0</td>\n      <td>0</td>\n      <td>1</td>\n      <td>0</td>\n      <td>0</td>\n      <td>0</td>\n      <td>0</td>\n      <td>0</td>\n      <td>1</td>\n      <td>...</td>\n      <td>0</td>\n      <td>0</td>\n      <td>0</td>\n      <td>0</td>\n      <td>0</td>\n      <td>0</td>\n      <td>0</td>\n      <td>0</td>\n      <td>0</td>\n      <td>0</td>\n    </tr>\n    <tr>\n      <th>30161</th>\n      <td>52</td>\n      <td>0</td>\n      <td>0</td>\n      <td>0</td>\n      <td>0</td>\n      <td>0</td>\n      <td>1</td>\n      <td>0</td>\n      <td>0</td>\n      <td>1</td>\n      <td>...</td>\n      <td>0</td>\n      <td>0</td>\n      <td>0</td>\n      <td>0</td>\n      <td>0</td>\n      <td>0</td>\n      <td>0</td>\n      <td>0</td>\n      <td>0</td>\n      <td>1</td>\n    </tr>\n  </tbody>\n</table>\n<p>30162 rows × 103 columns</p>\n</div>"
     },
     "execution_count": 39,
     "metadata": {},
     "output_type": "execute_result"
    }
   ],
   "source": [
    "encoded_df = pd.DataFrame(encoded, columns = [encoder.encoded_features[i] for i in range(len(encoded[0]))])\n",
    "encoded_df"
   ]
  },
  {
   "cell_type": "markdown",
   "id": "1e463abf",
   "metadata": {},
   "source": [
    "Here we create a Random Forest classifier, we train it on the Adult dataset, then we create an instance of Lore's BBox class based on the random forest just created."
   ]
  },
  {
   "cell_type": "code",
   "execution_count": 40,
   "id": "0ce6cd69",
   "metadata": {
    "ExecuteTime": {
     "end_time": "2023-11-27T15:09:43.977179490Z",
     "start_time": "2023-11-27T15:09:43.522771323Z"
    }
   },
   "outputs": [
    {
     "name": "stdout",
     "output_type": "stream",
     "text": [
      "Accuracy 0.840\n",
      "F1-measure 0.660\n"
     ]
    }
   ],
   "source": [
    "from sklearn.ensemble import RandomForestClassifier\n",
    "from sklearn.model_selection import train_test_split\n",
    "from sklearn.metrics import f1_score, accuracy_score\n",
    "\n",
    "feature_names = [c for c in encoded_df.columns if c != 'class']\n",
    "class_name = dataset.class_name\n",
    "test_size= 0.3\n",
    "random_state= 42\n",
    "\n",
    "X_train, X_test, Y_train, Y_test = train_test_split(encoded_df[feature_names].values, encoded_df[class_name].values,\n",
    "                                                    test_size=test_size,\n",
    "                                                    random_state=random_state,\n",
    "                                                    stratify=encoded_df[class_name].values)\n",
    "\n",
    "\n",
    "\n",
    "\n",
    "# Train a random forest model\n",
    "\n",
    "bb = RandomForestClassifier(n_estimators=20, random_state=random_state)\n",
    "# bb = MLPClassifier(random_state=random_state)\n",
    "bb.fit(X_train, Y_train)\n",
    "\n",
    "\n",
    "\n",
    "# example of predictions\n",
    "Y_pred = bb.predict(X_test)\n",
    "\n",
    "print('Accuracy %.3f' % accuracy_score(Y_test, Y_pred))\n",
    "print('F1-measure %.3f' % f1_score(Y_test, Y_pred))\n",
    "\n",
    "\n",
    "from lore_sa.bbox import sklearn_classifier_bbox\n",
    "\n",
    "bbox = sklearn_classifier_bbox.sklearnBBox(bb)\n",
    "\n"
   ]
  },
  {
   "cell_type": "markdown",
   "id": "b50b7bd6",
   "metadata": {},
   "source": [
    "## Neighborhood generation\n",
    "\n",
    "Given an element of the dataset, we can create an arbitrary number of synthetic instances. In this case we simulate the scenario where we only have a blackbox, a single element classified by such black box, and some limited information regarding features domains.\n",
    "\n",
    "Here we use the `RandomGenerator` class to create 10000 elements starting from an element from the adult dataset. "
   ]
  },
  {
   "cell_type": "code",
   "execution_count": 41,
   "id": "dbaa032a",
   "metadata": {
    "ExecuteTime": {
     "end_time": "2023-11-27T15:09:47.740658028Z",
     "start_time": "2023-11-27T15:09:43.979581805Z"
    }
   },
   "outputs": [
    {
     "name": "stderr",
     "output_type": "stream",
     "text": [
      "2023-11-27 16:09:47,717 root         WARNING  No target class is defined\n"
     ]
    },
    {
     "data": {
      "text/plain": "            age  workclass=State-gov  workclass=Self-emp-not-inc  \\\n0     60.931878                    0                           0   \n1     29.769725                    0                           0   \n2     87.227799                    1                           0   \n3     84.346605                    0                           0   \n4     52.665892                    1                           0   \n...         ...                  ...                         ...   \n9995  54.823392                    0                           0   \n9996  32.927431                    0                           0   \n9997  66.103960                    0                           0   \n9998  62.478011                    0                           0   \n9999  51.343001                    0                           0   \n\n      workclass=Private  workclass=Federal-gov  workclass=Local-gov  \\\n0                     0                      0                    1   \n1                     0                      0                    0   \n2                     0                      0                    0   \n3                     0                      0                    1   \n4                     0                      0                    0   \n...                 ...                    ...                  ...   \n9995                  0                      0                    0   \n9996                  1                      0                    0   \n9997                  1                      0                    0   \n9998                  0                      0                    0   \n9999                  0                      0                    0   \n\n      workclass=Self-emp-inc  workclass=Without-pay  education=Bachelors  \\\n0                          0                      0                    0   \n1                          0                      1                    0   \n2                          0                      0                    0   \n3                          0                      0                    0   \n4                          0                      0                    0   \n...                      ...                    ...                  ...   \n9995                       1                      0                    1   \n9996                       0                      0                    0   \n9997                       0                      0                    1   \n9998                       1                      0                    0   \n9999                       0                      1                    0   \n\n      education=HS-grad  ...  native-country=Outlying-US(Guam-USVI-etc)  \\\n0                     0  ...                                          0   \n1                     1  ...                                          0   \n2                     0  ...                                          0   \n3                     0  ...                                          0   \n4                     0  ...                                          0   \n...                 ...  ...                                        ...   \n9995                  0  ...                                          0   \n9996                  0  ...                                          0   \n9997                  0  ...                                          0   \n9998                  0  ...                                          0   \n9999                  0  ...                                          0   \n\n      native-country=Scotland  native-country=Trinadad&Tobago  \\\n0                           0                               0   \n1                           0                               0   \n2                           0                               0   \n3                           0                               0   \n4                           0                               0   \n...                       ...                             ...   \n9995                        0                               0   \n9996                        0                               0   \n9997                        0                               0   \n9998                        0                               0   \n9999                        0                               0   \n\n      native-country=Greece  native-country=Nicaragua  native-country=Vietnam  \\\n0                         0                         0                       0   \n1                         0                         0                       1   \n2                         0                         0                       0   \n3                         0                         0                       0   \n4                         0                         0                       0   \n...                     ...                       ...                     ...   \n9995                      0                         0                       0   \n9996                      0                         1                       0   \n9997                      0                         0                       0   \n9998                      0                         1                       0   \n9999                      0                         1                       0   \n\n      native-country=Hong  native-country=Ireland  native-country=Hungary  \\\n0                       0                       0                       1   \n1                       0                       0                       0   \n2                       0                       0                       0   \n3                       0                       0                       0   \n4                       0                       0                       0   \n...                   ...                     ...                     ...   \n9995                    0                       0                       0   \n9996                    0                       0                       0   \n9997                    0                       0                       0   \n9998                    0                       0                       0   \n9999                    0                       0                       0   \n\n      native-country=Holand-Netherlands  \n0                                     0  \n1                                     0  \n2                                     0  \n3                                     0  \n4                                     0  \n...                                 ...  \n9995                                  0  \n9996                                  0  \n9997                                  0  \n9998                                  0  \n9999                                  0  \n\n[10000 rows x 102 columns]",
      "text/html": "<div>\n<style scoped>\n    .dataframe tbody tr th:only-of-type {\n        vertical-align: middle;\n    }\n\n    .dataframe tbody tr th {\n        vertical-align: top;\n    }\n\n    .dataframe thead th {\n        text-align: right;\n    }\n</style>\n<table border=\"1\" class=\"dataframe\">\n  <thead>\n    <tr style=\"text-align: right;\">\n      <th></th>\n      <th>age</th>\n      <th>workclass=State-gov</th>\n      <th>workclass=Self-emp-not-inc</th>\n      <th>workclass=Private</th>\n      <th>workclass=Federal-gov</th>\n      <th>workclass=Local-gov</th>\n      <th>workclass=Self-emp-inc</th>\n      <th>workclass=Without-pay</th>\n      <th>education=Bachelors</th>\n      <th>education=HS-grad</th>\n      <th>...</th>\n      <th>native-country=Outlying-US(Guam-USVI-etc)</th>\n      <th>native-country=Scotland</th>\n      <th>native-country=Trinadad&amp;Tobago</th>\n      <th>native-country=Greece</th>\n      <th>native-country=Nicaragua</th>\n      <th>native-country=Vietnam</th>\n      <th>native-country=Hong</th>\n      <th>native-country=Ireland</th>\n      <th>native-country=Hungary</th>\n      <th>native-country=Holand-Netherlands</th>\n    </tr>\n  </thead>\n  <tbody>\n    <tr>\n      <th>0</th>\n      <td>60.931878</td>\n      <td>0</td>\n      <td>0</td>\n      <td>0</td>\n      <td>0</td>\n      <td>1</td>\n      <td>0</td>\n      <td>0</td>\n      <td>0</td>\n      <td>0</td>\n      <td>...</td>\n      <td>0</td>\n      <td>0</td>\n      <td>0</td>\n      <td>0</td>\n      <td>0</td>\n      <td>0</td>\n      <td>0</td>\n      <td>0</td>\n      <td>1</td>\n      <td>0</td>\n    </tr>\n    <tr>\n      <th>1</th>\n      <td>29.769725</td>\n      <td>0</td>\n      <td>0</td>\n      <td>0</td>\n      <td>0</td>\n      <td>0</td>\n      <td>0</td>\n      <td>1</td>\n      <td>0</td>\n      <td>1</td>\n      <td>...</td>\n      <td>0</td>\n      <td>0</td>\n      <td>0</td>\n      <td>0</td>\n      <td>0</td>\n      <td>1</td>\n      <td>0</td>\n      <td>0</td>\n      <td>0</td>\n      <td>0</td>\n    </tr>\n    <tr>\n      <th>2</th>\n      <td>87.227799</td>\n      <td>1</td>\n      <td>0</td>\n      <td>0</td>\n      <td>0</td>\n      <td>0</td>\n      <td>0</td>\n      <td>0</td>\n      <td>0</td>\n      <td>0</td>\n      <td>...</td>\n      <td>0</td>\n      <td>0</td>\n      <td>0</td>\n      <td>0</td>\n      <td>0</td>\n      <td>0</td>\n      <td>0</td>\n      <td>0</td>\n      <td>0</td>\n      <td>0</td>\n    </tr>\n    <tr>\n      <th>3</th>\n      <td>84.346605</td>\n      <td>0</td>\n      <td>0</td>\n      <td>0</td>\n      <td>0</td>\n      <td>1</td>\n      <td>0</td>\n      <td>0</td>\n      <td>0</td>\n      <td>0</td>\n      <td>...</td>\n      <td>0</td>\n      <td>0</td>\n      <td>0</td>\n      <td>0</td>\n      <td>0</td>\n      <td>0</td>\n      <td>0</td>\n      <td>0</td>\n      <td>0</td>\n      <td>0</td>\n    </tr>\n    <tr>\n      <th>4</th>\n      <td>52.665892</td>\n      <td>1</td>\n      <td>0</td>\n      <td>0</td>\n      <td>0</td>\n      <td>0</td>\n      <td>0</td>\n      <td>0</td>\n      <td>0</td>\n      <td>0</td>\n      <td>...</td>\n      <td>0</td>\n      <td>0</td>\n      <td>0</td>\n      <td>0</td>\n      <td>0</td>\n      <td>0</td>\n      <td>0</td>\n      <td>0</td>\n      <td>0</td>\n      <td>0</td>\n    </tr>\n    <tr>\n      <th>...</th>\n      <td>...</td>\n      <td>...</td>\n      <td>...</td>\n      <td>...</td>\n      <td>...</td>\n      <td>...</td>\n      <td>...</td>\n      <td>...</td>\n      <td>...</td>\n      <td>...</td>\n      <td>...</td>\n      <td>...</td>\n      <td>...</td>\n      <td>...</td>\n      <td>...</td>\n      <td>...</td>\n      <td>...</td>\n      <td>...</td>\n      <td>...</td>\n      <td>...</td>\n      <td>...</td>\n    </tr>\n    <tr>\n      <th>9995</th>\n      <td>54.823392</td>\n      <td>0</td>\n      <td>0</td>\n      <td>0</td>\n      <td>0</td>\n      <td>0</td>\n      <td>1</td>\n      <td>0</td>\n      <td>1</td>\n      <td>0</td>\n      <td>...</td>\n      <td>0</td>\n      <td>0</td>\n      <td>0</td>\n      <td>0</td>\n      <td>0</td>\n      <td>0</td>\n      <td>0</td>\n      <td>0</td>\n      <td>0</td>\n      <td>0</td>\n    </tr>\n    <tr>\n      <th>9996</th>\n      <td>32.927431</td>\n      <td>0</td>\n      <td>0</td>\n      <td>1</td>\n      <td>0</td>\n      <td>0</td>\n      <td>0</td>\n      <td>0</td>\n      <td>0</td>\n      <td>0</td>\n      <td>...</td>\n      <td>0</td>\n      <td>0</td>\n      <td>0</td>\n      <td>0</td>\n      <td>1</td>\n      <td>0</td>\n      <td>0</td>\n      <td>0</td>\n      <td>0</td>\n      <td>0</td>\n    </tr>\n    <tr>\n      <th>9997</th>\n      <td>66.103960</td>\n      <td>0</td>\n      <td>0</td>\n      <td>1</td>\n      <td>0</td>\n      <td>0</td>\n      <td>0</td>\n      <td>0</td>\n      <td>1</td>\n      <td>0</td>\n      <td>...</td>\n      <td>0</td>\n      <td>0</td>\n      <td>0</td>\n      <td>0</td>\n      <td>0</td>\n      <td>0</td>\n      <td>0</td>\n      <td>0</td>\n      <td>0</td>\n      <td>0</td>\n    </tr>\n    <tr>\n      <th>9998</th>\n      <td>62.478011</td>\n      <td>0</td>\n      <td>0</td>\n      <td>0</td>\n      <td>0</td>\n      <td>0</td>\n      <td>1</td>\n      <td>0</td>\n      <td>0</td>\n      <td>0</td>\n      <td>...</td>\n      <td>0</td>\n      <td>0</td>\n      <td>0</td>\n      <td>0</td>\n      <td>1</td>\n      <td>0</td>\n      <td>0</td>\n      <td>0</td>\n      <td>0</td>\n      <td>0</td>\n    </tr>\n    <tr>\n      <th>9999</th>\n      <td>51.343001</td>\n      <td>0</td>\n      <td>0</td>\n      <td>0</td>\n      <td>0</td>\n      <td>0</td>\n      <td>0</td>\n      <td>1</td>\n      <td>0</td>\n      <td>0</td>\n      <td>...</td>\n      <td>0</td>\n      <td>0</td>\n      <td>0</td>\n      <td>0</td>\n      <td>1</td>\n      <td>0</td>\n      <td>0</td>\n      <td>0</td>\n      <td>0</td>\n      <td>0</td>\n    </tr>\n  </tbody>\n</table>\n<p>10000 rows × 102 columns</p>\n</div>"
     },
     "execution_count": 41,
     "metadata": {},
     "output_type": "execute_result"
    }
   ],
   "source": [
    "# random generation\n",
    "\n",
    "features = [c for c in encoded_df.columns if c != dataset.class_name]\n",
    "\n",
    "x = encoded_df[features].iloc[10].values\n",
    "\n",
    "from lore_sa.neighgen.random import RandomGenerator\n",
    "\n",
    "gen = RandomGenerator()\n",
    "\n",
    "neighbour = gen.generate(x,10000, dataset.descriptor, onehotencoder = encoder)\n",
    "\n",
    "neighbour.df"
   ]
  },
  {
   "cell_type": "markdown",
   "id": "270df4d3",
   "metadata": {},
   "source": [
    "We now use the black box we created before to classify all the instances of the new synthetic dataset "
   ]
  },
  {
   "cell_type": "code",
   "execution_count": 42,
   "id": "0d206eeb",
   "metadata": {
    "ExecuteTime": {
     "end_time": "2023-11-27T15:09:47.806984788Z",
     "start_time": "2023-11-27T15:09:47.737476407Z"
    }
   },
   "outputs": [],
   "source": [
    "\n",
    "\n",
    "neighbour.df['class'] = bbox.predict(neighbour.df[features])\n",
    "neighbour.set_class_name('class')"
   ]
  },
  {
   "cell_type": "markdown",
   "id": "ba809d76",
   "metadata": {},
   "source": [
    "## surrogate model\n",
    "\n",
    "The `surrogate` submodule creates a classifier and provides the methods to extract its corresponding classification rules. Once trained the surrogate, we extract a set of rules that explains why the surrogate model classifies the instance in a certain way. \n",
    "\n",
    "In the following example, the instance `x` has been classified as an adult with income less than 50k. The surrogate model has used the features `capital-gain`, `capital-loss`, `marital-status`, and `native-country`. "
   ]
  },
  {
   "cell_type": "code",
   "execution_count": 43,
   "id": "a6a759df",
   "metadata": {
    "ExecuteTime": {
     "end_time": "2023-11-27T15:10:03.756435721Z",
     "start_time": "2023-11-27T15:10:03.606699168Z"
    }
   },
   "outputs": [
    {
     "data": {
      "text/plain": "DecisionTreeClassifier()",
      "text/html": "<style>#sk-container-id-3 {color: black;background-color: white;}#sk-container-id-3 pre{padding: 0;}#sk-container-id-3 div.sk-toggleable {background-color: white;}#sk-container-id-3 label.sk-toggleable__label {cursor: pointer;display: block;width: 100%;margin-bottom: 0;padding: 0.3em;box-sizing: border-box;text-align: center;}#sk-container-id-3 label.sk-toggleable__label-arrow:before {content: \"▸\";float: left;margin-right: 0.25em;color: #696969;}#sk-container-id-3 label.sk-toggleable__label-arrow:hover:before {color: black;}#sk-container-id-3 div.sk-estimator:hover label.sk-toggleable__label-arrow:before {color: black;}#sk-container-id-3 div.sk-toggleable__content {max-height: 0;max-width: 0;overflow: hidden;text-align: left;background-color: #f0f8ff;}#sk-container-id-3 div.sk-toggleable__content pre {margin: 0.2em;color: black;border-radius: 0.25em;background-color: #f0f8ff;}#sk-container-id-3 input.sk-toggleable__control:checked~div.sk-toggleable__content {max-height: 200px;max-width: 100%;overflow: auto;}#sk-container-id-3 input.sk-toggleable__control:checked~label.sk-toggleable__label-arrow:before {content: \"▾\";}#sk-container-id-3 div.sk-estimator input.sk-toggleable__control:checked~label.sk-toggleable__label {background-color: #d4ebff;}#sk-container-id-3 div.sk-label input.sk-toggleable__control:checked~label.sk-toggleable__label {background-color: #d4ebff;}#sk-container-id-3 input.sk-hidden--visually {border: 0;clip: rect(1px 1px 1px 1px);clip: rect(1px, 1px, 1px, 1px);height: 1px;margin: -1px;overflow: hidden;padding: 0;position: absolute;width: 1px;}#sk-container-id-3 div.sk-estimator {font-family: monospace;background-color: #f0f8ff;border: 1px dotted black;border-radius: 0.25em;box-sizing: border-box;margin-bottom: 0.5em;}#sk-container-id-3 div.sk-estimator:hover {background-color: #d4ebff;}#sk-container-id-3 div.sk-parallel-item::after {content: \"\";width: 100%;border-bottom: 1px solid gray;flex-grow: 1;}#sk-container-id-3 div.sk-label:hover label.sk-toggleable__label {background-color: #d4ebff;}#sk-container-id-3 div.sk-serial::before {content: \"\";position: absolute;border-left: 1px solid gray;box-sizing: border-box;top: 0;bottom: 0;left: 50%;z-index: 0;}#sk-container-id-3 div.sk-serial {display: flex;flex-direction: column;align-items: center;background-color: white;padding-right: 0.2em;padding-left: 0.2em;position: relative;}#sk-container-id-3 div.sk-item {position: relative;z-index: 1;}#sk-container-id-3 div.sk-parallel {display: flex;align-items: stretch;justify-content: center;background-color: white;position: relative;}#sk-container-id-3 div.sk-item::before, #sk-container-id-3 div.sk-parallel-item::before {content: \"\";position: absolute;border-left: 1px solid gray;box-sizing: border-box;top: 0;bottom: 0;left: 50%;z-index: -1;}#sk-container-id-3 div.sk-parallel-item {display: flex;flex-direction: column;z-index: 1;position: relative;background-color: white;}#sk-container-id-3 div.sk-parallel-item:first-child::after {align-self: flex-end;width: 50%;}#sk-container-id-3 div.sk-parallel-item:last-child::after {align-self: flex-start;width: 50%;}#sk-container-id-3 div.sk-parallel-item:only-child::after {width: 0;}#sk-container-id-3 div.sk-dashed-wrapped {border: 1px dashed gray;margin: 0 0.4em 0.5em 0.4em;box-sizing: border-box;padding-bottom: 0.4em;background-color: white;}#sk-container-id-3 div.sk-label label {font-family: monospace;font-weight: bold;display: inline-block;line-height: 1.2em;}#sk-container-id-3 div.sk-label-container {text-align: center;}#sk-container-id-3 div.sk-container {/* jupyter's `normalize.less` sets `[hidden] { display: none; }` but bootstrap.min.css set `[hidden] { display: none !important; }` so we also need the `!important` here to be able to override the default hidden behavior on the sphinx rendered scikit-learn.org. See: https://github.com/scikit-learn/scikit-learn/issues/21755 */display: inline-block !important;position: relative;}#sk-container-id-3 div.sk-text-repr-fallback {display: none;}</style><div id=\"sk-container-id-3\" class=\"sk-top-container\"><div class=\"sk-text-repr-fallback\"><pre>DecisionTreeClassifier()</pre><b>In a Jupyter environment, please rerun this cell to show the HTML representation or trust the notebook. <br />On GitHub, the HTML representation is unable to render, please try loading this page with nbviewer.org.</b></div><div class=\"sk-container\" hidden><div class=\"sk-item\"><div class=\"sk-estimator sk-toggleable\"><input class=\"sk-toggleable__control sk-hidden--visually\" id=\"sk-estimator-id-3\" type=\"checkbox\" checked><label for=\"sk-estimator-id-3\" class=\"sk-toggleable__label sk-toggleable__label-arrow\">DecisionTreeClassifier</label><div class=\"sk-toggleable__content\"><pre>DecisionTreeClassifier()</pre></div></div></div></div></div>"
     },
     "execution_count": 43,
     "metadata": {},
     "output_type": "execute_result"
    }
   ],
   "source": [
    "from lore_sa.surrogate import DecisionTreeSurrogate\n",
    "\n",
    "surrogate = DecisionTreeSurrogate()\n",
    "\n",
    "\n",
    "surrogate.train(neighbour.df[features].values , neighbour.df['class'] )"
   ]
  },
  {
   "cell_type": "code",
   "execution_count": 44,
   "id": "8b04bfca",
   "metadata": {
    "ExecuteTime": {
     "end_time": "2023-11-27T15:10:04.209884795Z",
     "start_time": "2023-11-27T15:10:04.163727925Z"
    }
   },
   "outputs": [
    {
     "name": "stdout",
     "output_type": "stream",
     "text": [
      "premises:\n",
      "capital-gain <= 5026.990234375\n",
      "capital-loss <= 1742.9114990234375\n",
      "marital-status = Married-civ-spouse\n",
      "occupation != Machine-op-inspct \n",
      "consequence: class = <=50K\n"
     ]
    }
   ],
   "source": [
    "x = encoded_df[features].iloc[10].values\n",
    "\n",
    "\n",
    "rule = surrogate.get_rule(x, neighbour, encoder)\n",
    "\n",
    "print (rule)"
   ]
  },
  {
   "cell_type": "code",
   "execution_count": 45,
   "id": "bd10d2b2",
   "metadata": {
    "ExecuteTime": {
     "end_time": "2023-11-27T15:10:08.230633831Z",
     "start_time": "2023-11-27T15:10:04.833388047Z"
    }
   },
   "outputs": [
    {
     "name": "stdout",
     "output_type": "stream",
     "text": [
      "premises:\n",
      "capital-gain > 8926.58544921875\n",
      "occupation != Other-service\n",
      "age > 26.59445858001709\n",
      "relationship != Own-child\n",
      "capital-loss > 2344.1400146484375\n",
      "hours-per-week <= 40.72099304199219\n",
      "marital-status != Divorced\n",
      "education != HS-grad\n",
      "race != Black\n",
      "native-country != Honduras\n",
      "occupation != Exec-managerial\n",
      "native-country != China\n",
      "native-country != Philippines\n",
      "native-country != Laos\n",
      "native-country != Puerto-Rico \n",
      "consequence: class = >50K [<lore_sa.rule.Expression object at 0x7f32e100bfd0>, <lore_sa.rule.Expression object at 0x7f32e100be80>, <lore_sa.rule.Expression object at 0x7f32e100bb20>]\n",
      "premises:\n",
      "capital-gain <= 97655.5234375\n",
      "capital-gain > 10999.65771484375\n",
      "occupation != Other-service\n",
      "age > 30.110142707824707\n",
      "relationship != Own-child\n",
      "capital-loss <= 2344.1400146484375\n",
      "relationship = Other-relative\n",
      "marital-status != Never-married\n",
      "hours-per-week <= 34.31813049316406\n",
      "education != 1st-4th\n",
      "native-country != Peru\n",
      "workclass != Private\n",
      "education != Some-college\n",
      "native-country != Taiwan\n",
      "native-country != Cuba\n",
      "native-country != Haiti \n",
      "consequence: class = >50K [<lore_sa.rule.Expression object at 0x7f32e0f9ff10>, <lore_sa.rule.Expression object at 0x7f32e0f9fc40>]\n",
      "premises:\n",
      "capital-gain > 8926.58544921875\n",
      "occupation != Other-service\n",
      "age > 27.300843238830566\n",
      "relationship != Own-child\n",
      "capital-loss <= 2343.6810302734375\n",
      "relationship != Other-relative\n",
      "marital-status != Never-married\n",
      "hours-per-week > 1.1454487442970276\n",
      "relationship = Husband\n",
      "native-country != Laos\n",
      "education != Masters\n",
      "native-country != Taiwan \n",
      "consequence: class = >50K [<lore_sa.rule.Expression object at 0x7f32e22671c0>]\n",
      "premises:\n",
      "capital-gain <= 6965.611572265625\n",
      "capital-loss <= 2409.8294677734375\n",
      "marital-status != Married-civ-spouse\n",
      "age <= 87.45146560668945\n",
      "native-country != Greece\n",
      "occupation != Exec-managerial\n",
      "native-country != Trinadad&Tobago\n",
      "native-country != Columbia\n",
      "native-country != Philippines \n",
      "consequence: class = <=50K []\n"
     ]
    }
   ],
   "source": [
    "crules, deltas = surrogate.get_counterfactual_rules(x=x, class_name = 'class', feature_names=features, \n",
    "                                                    neighborhood_dataset = neighbour, encoder = encoder)"
   ]
  },
  {
   "cell_type": "code",
   "execution_count": 46,
   "id": "609a808d",
   "metadata": {
    "scrolled": true,
    "ExecuteTime": {
     "end_time": "2023-11-27T15:10:08.266463785Z",
     "start_time": "2023-11-27T15:10:08.231412626Z"
    }
   },
   "outputs": [
    {
     "name": "stdout",
     "output_type": "stream",
     "text": [
      "premises:\n",
      "capital-gain <= 6965.611572265625\n",
      "capital-loss <= 2409.8294677734375\n",
      "marital-status != Married-civ-spouse\n",
      "age <= 87.45146560668945\n",
      "native-country != Greece\n",
      "occupation != Exec-managerial\n",
      "native-country != Trinadad&Tobago\n",
      "native-country != Columbia\n",
      "native-country != Philippines \n",
      "consequence: class = <=50K\n"
     ]
    }
   ],
   "source": [
    "for r in crules:\n",
    "    print(r)"
   ]
  },
  {
   "cell_type": "code",
   "execution_count": null,
   "id": "43560d45",
   "metadata": {},
   "outputs": [],
   "source": []
  }
 ],
 "metadata": {
  "kernelspec": {
   "display_name": "Python 3 (ipykernel)",
   "language": "python",
   "name": "python3"
  },
  "language_info": {
   "codemirror_mode": {
    "name": "ipython",
    "version": 3
   },
   "file_extension": ".py",
   "mimetype": "text/x-python",
   "name": "python",
   "nbconvert_exporter": "python",
   "pygments_lexer": "ipython3",
   "version": "3.9.12"
  }
 },
 "nbformat": 4,
 "nbformat_minor": 5
}
