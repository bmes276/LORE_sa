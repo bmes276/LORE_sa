{
 "cells": [
  {
   "cell_type": "code",
   "execution_count": null,
   "id": "437a64b8",
   "metadata": {},
   "outputs": [],
   "source": [
    "%load_ext autoreload\n",
    "%autoreload 2\n"
   ]
  },
  {
   "cell_type": "code",
   "execution_count": null,
   "id": "66c360ef",
   "metadata": {},
   "outputs": [],
   "source": [
    "from lore_sa.dataset import TabularDataset\n",
    "import pandas as pd"
   ]
  },
  {
   "cell_type": "code",
   "execution_count": null,
   "id": "1956c9e5",
   "metadata": {},
   "outputs": [],
   "source": [
    "dataset = TabularDataset.from_csv('test/resources/adult.csv', class_name = \"class\")\n",
    "dataset.df.dropna(inplace = True)\n",
    "dataset.df"
   ]
  },
  {
   "cell_type": "code",
   "execution_count": null,
   "id": "504054e3",
   "metadata": {},
   "outputs": [],
   "source": [
    "dataset.descriptor"
   ]
  },
  {
   "cell_type": "code",
   "execution_count": null,
   "id": "a974d87a",
   "metadata": {},
   "outputs": [],
   "source": [
    "dataset.df.drop(['fnlwgt', 'education-num'], inplace=True, axis=1)\n",
    "dataset.update_descriptor()"
   ]
  },
  {
   "cell_type": "code",
   "execution_count": null,
   "id": "bb8f3772",
   "metadata": {},
   "outputs": [],
   "source": [
    "dataset.descriptor['categoric'].keys()"
   ]
  },
  {
   "cell_type": "code",
   "execution_count": null,
   "id": "cf805a07",
   "metadata": {},
   "outputs": [],
   "source": [
    "from lore_sa.encoder_decoder import TabularEnc\n",
    "encoder = TabularEnc(dataset.descriptor)\n",
    "\n",
    "encoded = []\n",
    "for x in dataset.df.iloc:\n",
    "    \n",
    "    \n",
    "    encoded.append(encoder.encode(x.values))\n",
    "    \n",
    "    \n"
   ]
  },
  {
   "cell_type": "code",
   "execution_count": null,
   "id": "ec51eac5",
   "metadata": {},
   "outputs": [],
   "source": [
    "encoder.decode(encoded[0])"
   ]
  },
  {
   "cell_type": "code",
   "execution_count": null,
   "id": "e9bf1dac",
   "metadata": {},
   "outputs": [],
   "source": [
    "encoder.dataset_descriptor"
   ]
  },
  {
   "cell_type": "code",
   "execution_count": null,
   "id": "c5356743",
   "metadata": {},
   "outputs": [],
   "source": [
    "encoder.get_encoded_features()"
   ]
  },
  {
   "cell_type": "code",
   "execution_count": null,
   "id": "b1ae6261",
   "metadata": {},
   "outputs": [],
   "source": [
    "encoded_df =  pd.DataFrame(encoded, columns = [encoder.encoded_features[i] for i in range(len(encoded[0]))])\n",
    "encoded_df"
   ]
  },
  {
   "cell_type": "code",
   "execution_count": null,
   "id": "dbaa032a",
   "metadata": {},
   "outputs": [],
   "source": [
    "# random generation\n",
    "\n",
    "features = [c for c in encoded_df.columns if c != dataset.class_name]\n",
    "\n",
    "x = encoded_df[features].iloc[10].values\n",
    "\n",
    "from lore_sa.neighgen.random import RandomGenerator\n",
    "\n",
    "gen = RandomGenerator()\n",
    "\n",
    "neighbour = gen.generate(x,10000, dataset.descriptor, onehotencoder = encoder)\n",
    "\n",
    "neighbour.df"
   ]
  },
  {
   "cell_type": "markdown",
   "id": "de668392",
   "metadata": {},
   "source": [
    "## creating a blackbox\n"
   ]
  },
  {
   "cell_type": "code",
   "execution_count": null,
   "id": "0ce6cd69",
   "metadata": {},
   "outputs": [],
   "source": [
    "from sklearn.ensemble import RandomForestClassifier\n",
    "from sklearn.model_selection import train_test_split\n",
    "from sklearn.metrics import f1_score, accuracy_score\n",
    "\n",
    "feature_names = [c for c in encoded_df.columns if c != 'class']\n",
    "class_name = dataset.class_name\n",
    "test_size= 0.3\n",
    "random_state= 42\n",
    "\n",
    "X_train, X_test, Y_train, Y_test = train_test_split(encoded_df[feature_names].values, encoded_df[class_name].values,\n",
    "                                                    test_size=test_size,\n",
    "                                                    random_state=random_state,\n",
    "                                                    stratify=encoded_df[class_name].values)\n",
    "\n",
    "\n",
    "\n",
    "\n",
    "# Train a random forest model\n",
    "\n",
    "bb = RandomForestClassifier(n_estimators=20, random_state=random_state)\n",
    "# bb = MLPClassifier(random_state=random_state)\n",
    "bb.fit(X_train, Y_train)\n",
    "\n",
    "\n",
    "\n",
    "# example of predictions\n",
    "Y_pred = bb.predict(X_test)\n",
    "\n",
    "print('Accuracy %.3f' % accuracy_score(Y_test, Y_pred))\n",
    "print('F1-measure %.3f' % f1_score(Y_test, Y_pred))\n",
    "\n",
    "\n",
    "\n",
    "\n"
   ]
  },
  {
   "cell_type": "markdown",
   "id": "58fa92cf",
   "metadata": {},
   "source": [
    "### neighbour classification"
   ]
  },
  {
   "cell_type": "code",
   "execution_count": null,
   "id": "0d206eeb",
   "metadata": {},
   "outputs": [],
   "source": [
    "from lore_sa.bbox import sklearn_classifier_bbox\n",
    "\n",
    "bbox = sklearn_classifier_bbox.sklearnBBox(bb)\n",
    "\n",
    "neighbour.df['class'] = bbox.predict(neighbour.df[features])\n",
    "neighbour.set_class_name('class')"
   ]
  },
  {
   "cell_type": "markdown",
   "id": "ba809d76",
   "metadata": {},
   "source": [
    "## surrogate"
   ]
  },
  {
   "cell_type": "code",
   "execution_count": null,
   "id": "a6a759df",
   "metadata": {},
   "outputs": [],
   "source": [
    "from lore_sa.surrogate import DecisionTreeSurrogate\n",
    "\n",
    "surrogate = DecisionTreeSurrogate()\n",
    "\n",
    "\n",
    "surrogate.train(neighbour.df[features].values , neighbour.df['class'] )"
   ]
  },
  {
   "cell_type": "code",
   "execution_count": null,
   "id": "8b04bfca",
   "metadata": {},
   "outputs": [],
   "source": [
    "x = encoded_df[features].iloc[10].values\n",
    "\n",
    "\n",
    "rule = surrogate.get_rule(x, neighbour, encoder)\n",
    "\n",
    "print (rule)"
   ]
  },
  {
   "cell_type": "code",
   "execution_count": null,
   "id": "4ec17996",
   "metadata": {},
   "outputs": [],
   "source": [
    "encoder"
   ]
  },
  {
   "cell_type": "code",
   "execution_count": null,
   "id": "bbb88317",
   "metadata": {},
   "outputs": [],
   "source": [
    "import numpy as np\n",
    "features\n",
    "neighbour.df[[c for c in features if c!='class'][0]]"
   ]
  },
  {
   "cell_type": "code",
   "execution_count": null,
   "id": "bd10d2b2",
   "metadata": {},
   "outputs": [],
   "source": [
    "crules, deltas = surrogate.get_counterfactual_rules(x=x, y = 'class', Y=features, neighborhood_dataset = neighbour, encdec = encoder)"
   ]
  },
  {
   "cell_type": "code",
   "execution_count": null,
   "id": "609a808d",
   "metadata": {},
   "outputs": [],
   "source": []
  }
 ],
 "metadata": {
  "kernelspec": {
   "display_name": "Python 3 (ipykernel)",
   "language": "python",
   "name": "python3"
  },
  "language_info": {
   "codemirror_mode": {
    "name": "ipython",
    "version": 3
   },
   "file_extension": ".py",
   "mimetype": "text/x-python",
   "name": "python",
   "nbconvert_exporter": "python",
   "pygments_lexer": "ipython3",
   "version": "3.8.10"
  }
 },
 "nbformat": 4,
 "nbformat_minor": 5
}
